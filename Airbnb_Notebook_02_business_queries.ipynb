{
 "cells": [
  {
   "cell_type": "code",
   "execution_count": 0,
   "metadata": {
    "application/vnd.databricks.v1+cell": {
     "cellMetadata": {
      "byteLimit": 2048000,
      "rowLimit": 10000
     },
     "inputWidgets": {},
     "nuid": "0ae57ced-9d81-48fd-99fb-372745e48a66",
     "showTitle": false,
     "title": ""
    }
   },
   "outputs": [],
   "source": [
    "\"\"\"\n",
    "Here we are going to solve all the business logics that were requested in the requirements.\n",
    "\"\"\"\n",
    "\n",
    "from scripts.helper import *\n",
    "from pyspark.sql.functions import col, lit, count, length\n",
    "\n",
    "PROCESS_DATE = '2023-07-02' # get_process_date() # date of data processed in YYYY-MM-DD format\n"
   ]
  },
  {
   "cell_type": "markdown",
   "metadata": {
    "application/vnd.databricks.v1+cell": {
     "cellMetadata": {},
     "inputWidgets": {},
     "nuid": "e4e716a9-0900-45a0-b710-8da00151e047",
     "showTitle": false,
     "title": ""
    }
   },
   "source": [
    "# Descripción del ejercicio\n",
    "\n",
    "Airbnb es la plataforma líder de alquiler de alojamientos del mundo. Habiendo comenzado\n",
    "sus operaciones en el año 2007, hoy ya cuenta con más de 4 millones de huéspedes, 6\n",
    "millones de alojamientos disponibles y ha sido usado por más de 150 millones de personas\n",
    "en más de 100,000 ciudades del mundo.\n",
    "\n",
    "Para el siguiente ejercicio, buscaremos responder a ciertos interrogantes de negocio que\n",
    "podrían darse en las oficinas de Airbnb en París, y que serán respondidas por el equipo de\n",
    "Data Engineers y Data Scientists.\n",
    "\n",
    "Para esto, se incluyen los siguientes datasets:\n",
    "* `listings.csv`: incluye información de los alojamientos que existen en París, incluyendo\n",
    "su descripción, cantidad de habitaciones, precio por noche, entre otras variables.\n",
    "* `listings_summary.csv`: consiste en el mismo dataset de `listings.csv`, solo que con\n",
    "una menor cantidad de columnas.\n",
    "* `reviews.csv`: incluye información de las reseñas que los usuarios dieron en la\n",
    "plataforma. Incluye la fecha en la que se escribió, el texto de la reseña, el nombre\n",
    "del usuario, entre otras variables.\n",
    "* `reviews_summary.csv`: consiste en el mismo dataset de `reviews.csv`, solo que con\n",
    "una menor cantidad de columnas.\n",
    "* `neighbourhoods.geojson`: incluye el nombre de los distintos barrios que conforman\n",
    "la ciudad, además de un objeto que incluye un arreglo de las coordenadas que\n",
    "delimitan al barrio.\n",
    "* `calendar.csv`: incluye información a futuro de los días en el año para reservar cada\n",
    "alojamiento (es análogo al calendario que se observa en la página web al querer\n",
    "reservar un alojamiento). Incluye disponibilidad día a día, el precio para ese día, entre\n",
    "otros."
   ]
  },
  {
   "cell_type": "markdown",
   "metadata": {
    "application/vnd.databricks.v1+cell": {
     "cellMetadata": {},
     "inputWidgets": {},
     "nuid": "a9bbc772-f0c9-4620-a839-e431d7c20805",
     "showTitle": false,
     "title": ""
    }
   },
   "source": [
    "### A partir de estos datasets, se busca responder a las siguientes preguntas:"
   ]
  },
  {
   "cell_type": "markdown",
   "metadata": {
    "application/vnd.databricks.v1+cell": {
     "cellMetadata": {
      "byteLimit": 2048000,
      "rowLimit": 10000
     },
     "inputWidgets": {},
     "nuid": "690b079a-0fe6-4c78-b097-0321c53e0105",
     "showTitle": false,
     "title": ""
    }
   },
   "source": [
    "1. Dos ejecutivos de Airbnb están discutiendo respecto a cuáles son las zonas con más\n",
    "departamentos en Airbnb. Les ofreces hacer un análisis con buen nivel de detalle\n",
    "para enviarles un informe respecto a esto. Ellos dicen que no tienen tiempo de\n",
    "leerlo, que solo quieren ver una foto, imagen o tabla que les permita saberlo\n",
    "rápidamente. ¿Qué les muestras? (Desarrollar en código)"
   ]
  },
  {
   "cell_type": "code",
   "execution_count": 0,
   "metadata": {
    "application/vnd.databricks.v1+cell": {
     "cellMetadata": {
      "byteLimit": 2048000,
      "rowLimit": 10000
     },
     "inputWidgets": {},
     "nuid": "8cb346ef-e1bc-4bf0-83f0-27184afcbc50",
     "showTitle": false,
     "title": ""
    }
   },
   "outputs": [
    {
     "output_type": "stream",
     "name": "stdout",
     "output_type": "stream",
     "text": [
      "+--------------------+----------------+--------------+\n|       neighbourhood|total_apartments|partition_date|\n+--------------------+----------------+--------------+\n|Paris, Île-de-Fra...|           29241|    2023-07-02|\n|                null|           26146|    2023-07-02|\n|       Paris, France|             383|    2023-07-02|\n|Boulogne-Billanco...|             377|    2023-07-02|\n|Clichy, Île-de-Fr...|             263|    2023-07-02|\n|  Paris, IDF, France|             247|    2023-07-02|\n|Montreuil, Île-de...|             229|    2023-07-02|\n|Pantin, Île-de-Fr...|             209|    2023-07-02|\n|Paris, Île-de-Fra...|             206|    2023-07-02|\n|Vincennes, Île-de...|             204|    2023-07-02|\n|Levallois-Perret,...|             203|    2023-07-02|\n|Neuilly-sur-Seine...|             183|    2023-07-02|\n|Saint-Ouen, Île-d...|             175|    2023-07-02|\n|Issy-les-Moulinea...|             169|    2023-07-02|\n|Ivry-sur-Seine, Î...|             156|    2023-07-02|\n|Montrouge, Île-de...|             142|    2023-07-02|\n|Puteaux, Île-de-F...|             136|    2023-07-02|\n|Bagnolet, Île-de-...|             122|    2023-07-02|\n|Courbevoie, Île-d...|             105|    2023-07-02|\n|Malakoff, Île-de-...|             103|    2023-07-02|\n+--------------------+----------------+--------------+\nonly showing top 20 rows\n\nFinished writing table: bi_corp_business.apartments_per_zone\n"
     ]
    }
   ],
   "source": [
    "\"\"\"\n",
    "SELECT neighbourhood, COUNT(*) AS total_apartments\n",
    "FROM bi_corp_staging.listings\n",
    "GROUP BY neighbourhood\n",
    "ORDER BY total_apartments DESC;\n",
    "\"\"\"\n",
    "\n",
    "df_listings = spark.sql(f\"SELECT id, neighbourhood FROM bi_corp_staging.listings WHERE partition_date='{PROCESS_DATE}'\")\n",
    "\n",
    "df_final = df_listings.groupBy(\"neighbourhood\") \\\n",
    "    .agg(count(\"id\").alias(\"total_apartments\")) \\\n",
    "    .withColumn(\"partition_date\", lit(PROCESS_DATE))\n",
    "df_final.orderBy(col(\"total_apartments\").desc()).show()\n",
    "\n",
    "spark_write_df(df_final, BUSINESS_SCHEMA, 'apartments_per_zone', BUSINESS)"
   ]
  },
  {
   "cell_type": "markdown",
   "metadata": {
    "application/vnd.databricks.v1+cell": {
     "cellMetadata": {},
     "inputWidgets": {},
     "nuid": "d3f6c5b1-27aa-4fca-afb0-a0a0c84e06e3",
     "showTitle": false,
     "title": ""
    }
   },
   "source": [
    "2. En otras ciudades del mundo, la gente está usando cada vez menos la aplicación. Al\n",
    "equipo ejecutivo en París le preocupa esto y quiere saber cómo es la situación en\n",
    "esa ciudad. Específicamente, le gustaría ver cómo fueron evolucionando la\n",
    "cantidad de reviews escritas a lo largo de los años."
   ]
  },
  {
   "cell_type": "code",
   "execution_count": 0,
   "metadata": {
    "application/vnd.databricks.v1+cell": {
     "cellMetadata": {
      "byteLimit": 2048000,
      "rowLimit": 10000
     },
     "inputWidgets": {},
     "nuid": "66d04df4-945e-42fd-8df2-44de932befaf",
     "showTitle": false,
     "title": ""
    }
   },
   "outputs": [
    {
     "output_type": "stream",
     "name": "stdout",
     "output_type": "stream",
     "text": [
      "+----+-------------+--------------+\n|year|total_reviews|partition_date|\n+----+-------------+--------------+\n|2022|       337588|    2023-07-02|\n|2019|       270791|    2023-07-02|\n|2018|       208184|    2023-07-02|\n|2021|       205582|    2023-07-02|\n|2017|       142605|    2023-07-02|\n|2020|       106115|    2023-07-02|\n|2016|        94078|    2023-07-02|\n|2015|        60240|    2023-07-02|\n|2014|        26418|    2023-07-02|\n|2013|        10130|    2023-07-02|\n|2012|         3891|    2023-07-02|\n|2011|         1290|    2023-07-02|\n|2010|          354|    2023-07-02|\n|2009|           26|    2023-07-02|\n+----+-------------+--------------+\n\nFinished writing table: bi_corp_business.reviews_per_year\n"
     ]
    }
   ],
   "source": [
    "\"\"\"\n",
    "SELECT SUBSTR(date, 1, 4) AS year, COUNT(*) AS total_reviews\n",
    "FROM bi_corp_staging.reviews\n",
    "GROUP BY year\n",
    "ORDER BY year;\n",
    "\"\"\"\n",
    "\n",
    "df_reviews = spark.sql(f\"SELECT SUBSTR(date, 1, 4) AS year, id FROM bi_corp_staging.reviews WHERE partition_date='{PROCESS_DATE}'\")\n",
    "\n",
    "df_final = df_reviews.groupBy(\"year\") \\\n",
    "    .agg(count(\"id\").alias(\"total_reviews\")) \\\n",
    "    .withColumn(\"partition_date\", lit(PROCESS_DATE))\n",
    "df_final.orderBy(col(\"total_reviews\").desc()).show()\n",
    "\n",
    "spark_write_df(df_final, BUSINESS_SCHEMA, 'reviews_per_year', BUSINESS)"
   ]
  },
  {
   "cell_type": "markdown",
   "metadata": {
    "application/vnd.databricks.v1+cell": {
     "cellMetadata": {},
     "inputWidgets": {},
     "nuid": "ed9b6398-3755-45f2-83c2-411c7514bf90",
     "showTitle": false,
     "title": ""
    }
   },
   "source": [
    "3. El equipo de marketing está trabajando en una campaña global que consiste en\n",
    "mostrar cuáles son las principales palabras de viajeros asociadas a las principales\n",
    "ciudades del mundo. Les gustaría saber cuáles son las principales palabras que\n",
    "dicen de París (realiza la representación que prefieras para responder esta\n",
    "pregunta)."
   ]
  },
  {
   "cell_type": "code",
   "execution_count": 0,
   "metadata": {
    "application/vnd.databricks.v1+cell": {
     "cellMetadata": {
      "byteLimit": 2048000,
      "rowLimit": 10000
     },
     "inputWidgets": {},
     "nuid": "71b57c70-f1f5-4374-8726-0ee50e04cca7",
     "showTitle": false,
     "title": ""
    }
   },
   "outputs": [
    {
     "output_type": "stream",
     "name": "stdout",
     "output_type": "stream",
     "text": [
      "+-----------+---------+--------------+\n|       word|frequency|partition_date|\n+-----------+---------+--------------+\n|      space|    28358|    2023-07-02|\n|  apartment|    20570|    2023-07-02|\n|     access|    16029|    2023-07-02|\n|      Guest|    11719|    2023-07-02|\n|    located|    11519|    2023-07-02|\n|      Paris|    11250|    2023-07-02|\n|     living|    10597|    2023-07-02|\n|    License|     9794|    2023-07-02|\n|     number|     9783|    2023-07-02|\n|     double|     9274|    2023-07-02|\n|      floor|     8826|    2023-07-02|\n|   equipped|     8467|    2023-07-02|\n|    kitchen|     8281|    2023-07-02|\n|     Paris.|     8270|    2023-07-02|\n|      salle|     8132|    2023-07-02|\n|appartement|     8058|    2023-07-02|\n|    minutes|     7793|    2023-07-02|\n|    bedroom|     7499|    2023-07-02|\n|    chambre|     7299|    2023-07-02|\n|    cuisine|     7218|    2023-07-02|\n+-----------+---------+--------------+\nonly showing top 20 rows\n\n+-----------+---------+--------------+\n|       word|frequency|partition_date|\n+-----------+---------+--------------+\n|    Amazing|      159|    2023-07-02|\n|  Lachaise.|      153|    2023-07-02|\n|      still|      132|    2023-07-02|\n|  connected|      369|    2023-07-02|\n|      those|      232|    2023-07-02|\n| lave-linge|      202|    2023-07-02|\n|   Holidays|        2|    2023-07-02|\n|      Ligne|      277|    2023-07-02|\n|   painters|       12|    2023-07-02|\n|  bedrooms,|      744|    2023-07-02|\n|functional,|       90|    2023-07-02|\n|   everyday|       46|    2023-07-02|\n|  traveling|      123|    2023-07-02|\n|   Bellevil|        1|    2023-07-02|\n|   Bedroom,|       48|    2023-07-02|\n|    Chapon,|        1|    2023-07-02|\n|      inner|      235|    2023-07-02|\n|    (French|       26|    2023-07-02|\n|      14th.|        6|    2023-07-02|\n|    burner,|        5|    2023-07-02|\n+-----------+---------+--------------+\nonly showing top 20 rows\n\nFinished writing table: bi_corp_business.word_frequency_paris\n"
     ]
    }
   ],
   "source": [
    "\"\"\"\n",
    "SELECT word, COUNT(*) AS frequency\n",
    "FROM (\n",
    "  SELECT \n",
    "    EXPLODE(SPLIT(REGEXP_REPLACE(description, '(<br>|</b>|<b>|<br|\\/>)', ' '), ' ')) AS word\n",
    "  FROM bi_corp_staging.listings\n",
    "  WHERE lower(neighbourhood) LIKE '%paris%' or lower(neighbourhood) LIKE '%parís%'\n",
    ") subquery\n",
    "WHERE len(word) > 4 -- ignore small words\n",
    "GROUP BY word\n",
    "ORDER BY frequency DESC\n",
    "LIMIT 10;\n",
    "\"\"\"\n",
    "\n",
    "df_words = spark.sql(f\"\"\"\n",
    "SELECT\n",
    "  EXPLODE(SPLIT(REGEXP_REPLACE(description, '(<br>|</b>|<b>|<br|\\/>)', ' '), ' ')) AS word\n",
    "FROM bi_corp_staging.listings\n",
    "WHERE partition_date='{PROCESS_DATE}'\n",
    "AND RLIKE(LOWER(neighbourhood), r'(paris|parís)')\n",
    "\"\"\")\n",
    "df_final = df_words.where(length(col(\"word\")) > 4).groupBy(\"word\") \\\n",
    "    .agg(count(\"*\").alias(\"frequency\")) \\\n",
    "    .withColumn(\"partition_date\", lit(PROCESS_DATE))\n",
    "df_final.orderBy(col(\"frequency\").desc()).show()\n",
    "df_final.show()\n",
    "\n",
    "spark_write_df(df_final, BUSINESS_SCHEMA, 'word_frequency_paris', BUSINESS)"
   ]
  },
  {
   "cell_type": "markdown",
   "metadata": {
    "application/vnd.databricks.v1+cell": {
     "cellMetadata": {},
     "inputWidgets": {},
     "nuid": "bcd118f6-062a-4f66-99e5-2dc4d4574d06",
     "showTitle": false,
     "title": ""
    }
   },
   "source": [
    "4. La inflación está haciendo estragos en Europa y al equipo ejecutivo le interesa saber\n",
    "cuál es la concepción de esto entre los propietarios de alojamientos. En otras\n",
    "palabras, les interesa saber si ya están teniendo en cuenta el aumento de precios a\n",
    "futuro en sus departamentos y existe una tendencia alcista en los precios que\n",
    "publican en Airbnb, o si no le están dando mayor importancia y los precios se ven\n",
    "bastante estáticos a futuro. La pregunta que escuchaste a un ejecutivo decir es:\n",
    "\"¿Los inquilinos están planificando aumentar los precios?\". (Siéntete libre de\n",
    "responderla de la forma que quieras, a partir de correr algún análisis estadístico,\n",
    "representación gráfica, etc. Para esta pregunta, puedes consultar el dataset\n",
    "`calendar.csv` que incluye, para cada propiedad, el precio definido día a día para el\n",
    "próximo año)."
   ]
  },
  {
   "cell_type": "code",
   "execution_count": 0,
   "metadata": {
    "application/vnd.databricks.v1+cell": {
     "cellMetadata": {
      "byteLimit": 2048000,
      "rowLimit": 10000
     },
     "inputWidgets": {},
     "nuid": "4d315c70-2ffd-42f0-b86c-fe363c283144",
     "showTitle": false,
     "title": ""
    }
   },
   "outputs": [
    {
     "output_type": "stream",
     "name": "stdout",
     "output_type": "stream",
     "text": [
      "+------------------+-------------------------+--------------+\n|        listing_id|price_increase_percentage|partition_date|\n+------------------+-------------------------+--------------+\n|          52099296|       0.8273972602739726|    2023-07-02|\n|          52099231|       0.8273972602739726|    2023-07-02|\n|          52099205|       0.8273972602739726|    2023-07-02|\n|          52099305|       0.8273972602739726|    2023-07-02|\n|          52099229|       0.8273972602739726|    2023-07-02|\n|          52099306|       0.8273972602739726|    2023-07-02|\n|          52099295|       0.8273972602739726|    2023-07-02|\n|          52099307|       0.8273972602739726|    2023-07-02|\n|          52099382|       0.8246575342465754|    2023-07-02|\n|633059482852189926|       0.8246575342465754|    2023-07-02|\n|          52099290|       0.8246575342465754|    2023-07-02|\n|          52099200|        0.821917808219178|    2023-07-02|\n|          52099165|        0.821917808219178|    2023-07-02|\n|          52099222|       0.7123287671232876|    2023-07-02|\n|          52099173|       0.7123287671232876|    2023-07-02|\n|          52099186|       0.7095890410958904|    2023-07-02|\n|          52099309|       0.7095890410958904|    2023-07-02|\n|696292692209754093|       0.7095890410958904|    2023-07-02|\n|          52099179|       0.7095890410958904|    2023-07-02|\n|          52099184|       0.7095890410958904|    2023-07-02|\n+------------------+-------------------------+--------------+\nonly showing top 20 rows\n\n+----------+-------------------------+--------------+\n|listing_id|price_increase_percentage|partition_date|\n+----------+-------------------------+--------------+\n|  10003592|      0.14246575342465753|    2023-07-02|\n|  10004368|      0.00821917808219178|    2023-07-02|\n|  10005735|                      0.0|    2023-07-02|\n|  10012798|                      0.0|    2023-07-02|\n|   1001695|                      0.0|    2023-07-02|\n|  10018937|                      0.0|    2023-07-02|\n|   1002341|                      0.0|    2023-07-02|\n|   1002368|                      0.0|    2023-07-02|\n|  10031995|                      0.0|    2023-07-02|\n|  10038031|                      0.0|    2023-07-02|\n|  10039622|       0.1232876712328767|    2023-07-02|\n|  10045439|                      0.0|    2023-07-02|\n|  10046008|                      0.0|    2023-07-02|\n|   1005786|                      0.0|    2023-07-02|\n|  10062582|                      0.0|    2023-07-02|\n|  10063782|                      0.0|    2023-07-02|\n|  10065101|                      0.0|    2023-07-02|\n|  10070272|                      0.0|    2023-07-02|\n|  10077270|     0.030136986301369864|    2023-07-02|\n|  10077610|                      0.0|    2023-07-02|\n+----------+-------------------------+--------------+\nonly showing top 20 rows\n\nFinished writing table: bi_corp_business.price_increase\n"
     ]
    }
   ],
   "source": [
    "f\"\"\"\n",
    "SELECT\n",
    "  listing_id,\n",
    "  SUM(CASE WHEN price > price_past THEN 1 ELSE 0 END) / COUNT(*) AS price_increase_percentage\n",
    "FROM (\n",
    "  SELECT\n",
    "    listing_id,\n",
    "    LAG(price) OVER (PARTITION BY listing_id ORDER BY date) AS price_past,\n",
    "    price\n",
    "  FROM bi_corp_staging.calendar\n",
    "  WHERE partition_date >= '2023-01-01'\n",
    "    AND partition_date < '2024-01-01'\n",
    ") subquery\n",
    "GROUP BY listing_id;\n",
    "\"\"\"\n",
    "\n",
    "start_date = '2023-01-01'\n",
    "end_date = '2024-01-01'\n",
    "\n",
    "df_prices = spark.sql(f\"\"\"\n",
    "SELECT\n",
    "    listing_id,\n",
    "    LAG(price) OVER (PARTITION BY listing_id ORDER BY date) AS price_past,\n",
    "    price\n",
    "FROM bi_corp_staging.calendar\n",
    "WHERE partition_date >= '{start_date}'\n",
    "AND partition_date < '{end_date}'\n",
    "\"\"\")\n",
    "df_prices.createOrReplaceTempView(\"temp_precios\")\n",
    "\n",
    "df_final = spark.sql(\"\"\"\n",
    "SELECT\n",
    "  listing_id,\n",
    "  SUM(CASE WHEN price > price_past THEN 1 ELSE 0 END) / COUNT(*) AS price_increase_percentage\n",
    "FROM temp_precios\n",
    "GROUP BY listing_id\n",
    "\"\"\").withColumn(\"partition_date\", lit(PROCESS_DATE))\n",
    "df_final.orderBy(col(\"price_increase_percentage\").desc()).show()\n",
    "df_final.show()\n",
    "\n",
    "spark_write_df(df_final, BUSINESS_SCHEMA, 'price_increase', BUSINESS)"
   ]
  },
  {
   "cell_type": "markdown",
   "metadata": {
    "application/vnd.databricks.v1+cell": {
     "cellMetadata": {},
     "inputWidgets": {},
     "nuid": "867edcb5-f788-4736-b4bd-e50b67a898c9",
     "showTitle": false,
     "title": ""
    }
   },
   "source": [
    "5. En promedio, ¿cuál es el precio que paga una persona que se queda en un Airbnb?"
   ]
  },
  {
   "cell_type": "code",
   "execution_count": 0,
   "metadata": {
    "application/vnd.databricks.v1+cell": {
     "cellMetadata": {
      "byteLimit": 2048000,
      "rowLimit": 10000
     },
     "inputWidgets": {},
     "nuid": "9161b940-e7b9-48ba-bd90-ac8649c3ae88",
     "showTitle": false,
     "title": ""
    }
   },
   "outputs": [
    {
     "output_type": "stream",
     "name": "stdout",
     "output_type": "stream",
     "text": [
      "Average price: $24.01\n"
     ]
    }
   ],
   "source": [
    "\"\"\"\n",
    "SELECT AVG(CAST(SUBSTR(price, 2) AS FLOAT)) AS average_price\n",
    "FROM bi_corp_staging.listings_summary;\n",
    "\"\"\"\n",
    "\n",
    "df_average_price = spark.sql(f\"\"\"\n",
    "SELECT AVG(CAST(SUBSTR(price, 2) AS FLOAT)) AS average_price\n",
    "FROM bi_corp_staging.listings_summary\n",
    "WHERE partition_date='{PROCESS_DATE}';\n",
    "\"\"\")\n",
    "\n",
    "average_price = df_average_price.collect()[0][0]\n",
    "print(f\"Average price: ${round(average_price,2)}\")"
   ]
  },
  {
   "cell_type": "markdown",
   "metadata": {
    "application/vnd.databricks.v1+cell": {
     "cellMetadata": {},
     "inputWidgets": {},
     "nuid": "2177fec5-c6c8-40fa-889c-7f9e0cdf8718",
     "showTitle": false,
     "title": ""
    }
   },
   "source": [
    "6. El equipo de Marketing quiere hacerles un regalo a los mejores 10 anfitriónes de\n",
    "Airbnb en París. Te pide una lista de quienes son para hacerlo. ¿A quiénes elegirías\n",
    "para darle este regalo? ¿Por qué?"
   ]
  },
  {
   "cell_type": "code",
   "execution_count": 0,
   "metadata": {
    "application/vnd.databricks.v1+cell": {
     "cellMetadata": {
      "byteLimit": 2048000,
      "rowLimit": 10000
     },
     "inputWidgets": {},
     "nuid": "c4ab9aa0-625c-4ca1-af70-b84c545031cd",
     "showTitle": false,
     "title": ""
    }
   },
   "outputs": [
    {
     "output_type": "stream",
     "name": "stdout",
     "output_type": "stream",
     "text": [
      "Out[49]: ['Joffrey',\n 'Philippe',\n 'Welkeys',\n 'Hôtel Pavillon Monceau',\n 'Hôtel 123 Sébastopol ****',\n 'Michel',\n 'Home Residence',\n 'Charles',\n 'Laurent',\n 'Marie']"
     ]
    }
   ],
   "source": [
    "\"\"\"\n",
    "SELECT host_id, host_name, calculated_host_listings_count\n",
    "FROM bi_corp_staging.listings_summary\n",
    "ORDER BY calculated_host_listings_count DESC\n",
    "LIMIT 10;\n",
    "\"\"\"\n",
    "\n",
    "df_best_hosts = spark.sql(f\"\"\"\n",
    "SELECT distinct host_id, host_name, calculated_host_listings_count\n",
    "FROM bi_corp_staging.listings_summary\n",
    "WHERE partition_date='{PROCESS_DATE}';\n",
    "\"\"\")\n",
    "best_hosts = df_best_hosts.orderBy(col(\"calculated_host_listings_count\").desc()).collect()[:10]\n",
    "best_hosts_names = list(map(lambda h: h['host_name'], best_hosts))\n",
    "best_hosts_names\n",
    "\n",
    "# To improve:\n",
    "# Other aspects such as number of reviews or review scores could be considered to choose between hosts with the same calculated_host_listings_count"
   ]
  },
  {
   "cell_type": "markdown",
   "metadata": {
    "application/vnd.databricks.v1+cell": {
     "cellMetadata": {},
     "inputWidgets": {},
     "nuid": "8386bb3a-1097-4c07-a41c-12fc29c6d5bf",
     "showTitle": false,
     "title": ""
    }
   },
   "source": [
    "7. Por último: Crear una query SQL que devuelva: el precio promedio del mes de enero\n",
    "de 2023 de cada una de las propiedades ranqueadas por los 3 usuarios que más\n",
    "reviews escribieron. Esta query también debe incluir el porcentaje de que tan\n",
    "disponible está este departamento durante ese mes. También se debe incluir el\n",
    "nombre del dueño de la propiedad (Debe ser una sola query. Deben ordenarse los\n",
    "resultados por `listing_id` en orden ascendente.\n",
    "\n",
    "> Voy a omitir la sugerencia de usar Pandas y SQLite para seguir usando Spark y Hive dentro de Azure Databricks"
   ]
  },
  {
   "cell_type": "code",
   "execution_count": 0,
   "metadata": {
    "application/vnd.databricks.v1+cell": {
     "cellMetadata": {
      "byteLimit": 2048000,
      "rowLimit": 10000
     },
     "inputWidgets": {},
     "nuid": "21e0a587-ad4f-4a88-964e-cc84800d91bb",
     "showTitle": false,
     "title": ""
    }
   },
   "outputs": [
    {
     "output_type": "stream",
     "name": "stdout",
     "output_type": "stream",
     "text": [
      "+----------+---------+------------------+-----------------------+\n|listing_id|host_name|     average_price|availability_percentage|\n+----------+---------+------------------+-----------------------+\n|  17222007|Alexandra|157.29041095890412|     0.3287671232876712|\n|  26244787|   Lionel| 367.6986301369863|     0.9506849315068493|\n|  46255907|   Roxane| 711.9698630136986|     0.2054794520547945|\n+----------+---------+------------------+-----------------------+\n\n"
     ]
    }
   ],
   "source": [
    "query = f\"\"\"\n",
    "WITH top_reviewers AS (\n",
    "  SELECT listing_id, COUNT(*) AS review_count\n",
    "  FROM bi_corp_staging.reviews_summary\n",
    "  GROUP BY listing_id\n",
    "  ORDER BY review_count DESC\n",
    "  LIMIT 3\n",
    ")\n",
    "SELECT\n",
    "  c.listing_id,\n",
    "  l.host_name,\n",
    "  AVG(CAST(SUBSTR(c.price, 2) AS FLOAT)) AS average_price,\n",
    "  SUM(CASE WHEN c.available = 't' THEN 1 ELSE 0 END) / COUNT(*) AS availability_percentage\n",
    "FROM bi_corp_staging.calendar c\n",
    "JOIN top_reviewers t ON c.listing_id = t.listing_id\n",
    "JOIN bi_corp_staging.listings_summary l ON c.listing_id = l.id\n",
    "-- WHERE c.partition_date >= '2023-01-01' AND c.partition_date <= '2023-01-31'\n",
    "-- Commented because I only have one partition, but this will be useful in the future\n",
    "GROUP BY c.listing_id, l.host_name\n",
    "ORDER BY c.listing_id ASC;\n",
    "\"\"\"\n",
    "\n",
    "spark.sql(query).show()"
   ]
  }
 ],
 "metadata": {
  "application/vnd.databricks.v1+notebook": {
   "dashboards": [],
   "language": "python",
   "notebookMetadata": {
    "pythonIndentUnit": 4
   },
   "notebookName": "Airbnb_Notebook_02_business_queries.ipynb",
   "widgets": {}
  }
 },
 "nbformat": 4,
 "nbformat_minor": 0
}
